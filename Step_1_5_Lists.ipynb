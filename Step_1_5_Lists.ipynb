{
  "nbformat": 4,
  "nbformat_minor": 0,
  "metadata": {
    "anaconda-cloud": {},
    "kernelspec": {
      "display_name": "Python 3",
      "language": "python",
      "name": "python3"
    },
    "language_info": {
      "codemirror_mode": {
        "name": "ipython",
        "version": 3
      },
      "file_extension": ".py",
      "mimetype": "text/x-python",
      "name": "python",
      "nbconvert_exporter": "python",
      "pygments_lexer": "ipython3",
      "version": "3.7.1"
    },
    "colab": {
      "name": "Step_1_5_Lists.ipynb",
      "provenance": [],
      "include_colab_link": true
    }
  },
  "cells": [
    {
      "cell_type": "markdown",
      "metadata": {
        "id": "view-in-github",
        "colab_type": "text"
      },
      "source": [
        "<a href=\"https://colab.research.google.com/github/Fatima98-salami/Python/blob/master/Step_1_5_Lists.ipynb\" target=\"_parent\"><img src=\"https://colab.research.google.com/assets/colab-badge.svg\" alt=\"Open In Colab\"/></a>"
      ]
    },
    {
      "cell_type": "markdown",
      "metadata": {
        "id": "0bbBsDiAjJit",
        "colab_type": "text"
      },
      "source": [
        "# Lists\n",
        "\n",
        "The list is a most versatile data type available in Python which can be written as a list of comma-separated values (items) between square brackets. Important thing about a list is that items in a list need not be of the same type"
      ]
    },
    {
      "cell_type": "markdown",
      "metadata": {
        "id": "hlt6__Y6jJiu",
        "colab_type": "text"
      },
      "source": [
        "## Accessing lists"
      ]
    },
    {
      "cell_type": "code",
      "metadata": {
        "id": "cM9cb8JpjJiv",
        "colab_type": "code",
        "outputId": "2cd54059-579a-412e-b362-7061390fb7df",
        "colab": {
          "base_uri": "https://localhost:8080/",
          "height": 51
        }
      },
      "source": [
        "list_1 = ['Statistics', 'Programming', 2016, 2017, 2018];\n",
        "list_2 = ['a', 'b', 1, 2, 3, 4, 5, 6, 7 ];\n",
        "\n",
        "# Accessing values in lists\n",
        "print (\"list_1[0]: \", list_1[0])\n",
        "print (\"list2_[1:5]: \", list_2[1:5])"
      ],
      "execution_count": 19,
      "outputs": [
        {
          "output_type": "stream",
          "text": [
            "list_1[0]:  Statistics\n",
            "list2_[1:5]:  ['b', 1, 2, 3]\n"
          ],
          "name": "stdout"
        }
      ]
    },
    {
      "cell_type": "markdown",
      "metadata": {
        "id": "TnjYgayMjJi1",
        "colab_type": "text"
      },
      "source": [
        "## Adding new value to list"
      ]
    },
    {
      "cell_type": "code",
      "metadata": {
        "id": "b7TZptG4jJi1",
        "colab_type": "code",
        "outputId": "29006f36-b556-4726-ad05-4ffe7150de85",
        "colab": {
          "base_uri": "https://localhost:8080/",
          "height": 51
        }
      },
      "source": [
        "# Adding new value to list\n",
        "print (\"list_1 values: \", list_1)\n",
        "list_1.append(2019)\n",
        "print (\"list_1 values post append: \", list_1)"
      ],
      "execution_count": 20,
      "outputs": [
        {
          "output_type": "stream",
          "text": [
            "list_1 values:  ['Statistics', 'Programming', 2016, 2017, 2018]\n",
            "list_1 values post append:  ['Statistics', 'Programming', 2016, 2017, 2018, 2019]\n"
          ],
          "name": "stdout"
        }
      ]
    },
    {
      "cell_type": "markdown",
      "metadata": {
        "id": "HwNI5VoZjJi6",
        "colab_type": "text"
      },
      "source": [
        "## Updating existing values of list"
      ]
    },
    {
      "cell_type": "code",
      "metadata": {
        "id": "Z4R5ThLajJi8",
        "colab_type": "code",
        "outputId": "6035c944-bf1f-47c5-b4ce-456b107cbb0b",
        "colab": {
          "base_uri": "https://localhost:8080/",
          "height": 68
        }
      },
      "source": [
        "# Updating existing values of list\n",
        "print (\"Values of list_1: \", list_1)\n",
        "print (\"Value available at index 2 : \", list_1[2])\n",
        "list_1[2] = 2015;\n",
        "print (\"New value available at index 2 : \", list_1[2])"
      ],
      "execution_count": 21,
      "outputs": [
        {
          "output_type": "stream",
          "text": [
            "Values of list_1:  ['Statistics', 'Programming', 2016, 2017, 2018, 2019]\n",
            "Value available at index 2 :  2016\n",
            "New value available at index 2 :  2015\n"
          ],
          "name": "stdout"
        }
      ]
    },
    {
      "cell_type": "markdown",
      "metadata": {
        "id": "DYceGJYJjJjD",
        "colab_type": "text"
      },
      "source": [
        "## Deleting list elements"
      ]
    },
    {
      "cell_type": "code",
      "metadata": {
        "id": "AvbsUyLmjJjF",
        "colab_type": "code",
        "outputId": "a52edf9f-f5d9-41ee-f04b-50f83c6184f8",
        "colab": {
          "base_uri": "https://localhost:8080/",
          "height": 51
        }
      },
      "source": [
        "# Deleting list elements\n",
        "print (\"list_1 values: \", list_1)\n",
        "del list_1[5];\n",
        "print (\"After deleting value at index 2 : \", list_1)"
      ],
      "execution_count": 22,
      "outputs": [
        {
          "output_type": "stream",
          "text": [
            "list_1 values:  ['Statistics', 'Programming', 2015, 2017, 2018, 2019]\n",
            "After deleting value at index 2 :  ['Statistics', 'Programming', 2015, 2017, 2018]\n"
          ],
          "name": "stdout"
        }
      ]
    },
    {
      "cell_type": "markdown",
      "metadata": {
        "id": "vYt6uf4_jJjN",
        "colab_type": "text"
      },
      "source": [
        "## Basic operations on lists"
      ]
    },
    {
      "cell_type": "code",
      "metadata": {
        "id": "dyUaVt0bjJjP",
        "colab_type": "code",
        "outputId": "31ad2e10-07bb-4b23-8ba0-59f422932d59",
        "colab": {
          "base_uri": "https://localhost:8080/",
          "height": 153
        }
      },
      "source": [
        "# Basic Operations\n",
        "print (\"Length: \", len(list_1))\n",
        "print (\"Concatenation: \", [1,2,3] + [4, 5, 6])\n",
        "print (\"Repetition :\", ['Hello'] * 4)\n",
        "print (\"Membership :\", 3 in [1,2,3])\n",
        "print (\"Iteration :\" )\n",
        "for x in [1,2,3]: print (x)"
      ],
      "execution_count": 23,
      "outputs": [
        {
          "output_type": "stream",
          "text": [
            "Length:  5\n",
            "Concatenation:  [1, 2, 3, 4, 5, 6]\n",
            "Repetition : ['Hello', 'Hello', 'Hello', 'Hello']\n",
            "Membership : True\n",
            "Iteration :\n",
            "1\n",
            "2\n",
            "3\n"
          ],
          "name": "stdout"
        }
      ]
    },
    {
      "cell_type": "code",
      "metadata": {
        "id": "F1hyk4_mjJjU",
        "colab_type": "code",
        "outputId": "e8aca95f-c64d-42e5-e37b-057ab2592396",
        "colab": {
          "base_uri": "https://localhost:8080/",
          "height": 51
        }
      },
      "source": [
        "# Negative sign will count from the right\n",
        "print (\"slicing :\", list_1[-2])\n",
        "# If you don't specify the end explicitly, all elements from the specified start index will be printed\n",
        "print (\"slicing range: \", list_1[1:])"
      ],
      "execution_count": 24,
      "outputs": [
        {
          "output_type": "stream",
          "text": [
            "slicing : 2017\n",
            "slicing range:  ['Programming', 2015, 2017, 2018]\n"
          ],
          "name": "stdout"
        }
      ]
    },
    {
      "cell_type": "code",
      "metadata": {
        "id": "2FNsQBB9jJjX",
        "colab_type": "code",
        "outputId": "1261d516-8f6b-4b3e-f1e6-2a61b80d8938",
        "colab": {
          "base_uri": "https://localhost:8080/",
          "height": 102
        }
      },
      "source": [
        "# Comparing elements of lists\n",
        "# cmp function is only available in Python 2 and not 3, so if you still need it you could use the below custom function\n",
        "def cmp(a, b):\n",
        "    return (a > b) - (a < b) \n",
        "\n",
        "print (\"Compare two lists: \", cmp([1,2,3, 4], [1,2,3]))\n",
        "print (\"Max of list: \", max([1,2,3,4,5]))\n",
        "print (\"Min of list: \", min([1,2,3,4,5]))\n",
        "print (\"Count number of 1 in list: \", [1,1,2,3,4,5,].count(1))\n",
        "list_1.extend(list_2)\n",
        "print (\"Extended :\", list_1)"
      ],
      "execution_count": 25,
      "outputs": [
        {
          "output_type": "stream",
          "text": [
            "Compare two lists:  1\n",
            "Max of list:  5\n",
            "Min of list:  1\n",
            "Count number of 1 in list:  2\n",
            "Extended : ['Statistics', 'Programming', 2015, 2017, 2018, 'a', 'b', 1, 2, 3, 4, 5, 6, 7]\n"
          ],
          "name": "stdout"
        }
      ]
    },
    {
      "cell_type": "code",
      "metadata": {
        "id": "ZzcYJ-o4jJjd",
        "colab_type": "code",
        "outputId": "4baa2ec6-de20-4b21-a8ec-9b38c1e48ee0",
        "colab": {
          "base_uri": "https://localhost:8080/",
          "height": 119
        }
      },
      "source": [
        "print (\"Index for Programming : \", list_1.index( 'Programming'))\n",
        "print (list_1)\n",
        "print (\"pop last item in list: \", list_1.pop())\n",
        "print (\"pop the item with index 2: \", list_1.pop(2))\n",
        "list_1.remove('b') \n",
        "print (\"removed b from list: \", list_1)\n",
        "list_1.reverse()\n",
        "print (\"Reverse: \", list_1)"
      ],
      "execution_count": 26,
      "outputs": [
        {
          "output_type": "stream",
          "text": [
            "Index for Programming :  1\n",
            "['Statistics', 'Programming', 2015, 2017, 2018, 'a', 'b', 1, 2, 3, 4, 5, 6, 7]\n",
            "pop last item in list:  7\n",
            "pop the item with index 2:  2015\n",
            "removed b from list:  ['Statistics', 'Programming', 2017, 2018, 'a', 1, 2, 3, 4, 5, 6]\n",
            "Reverse:  [6, 5, 4, 3, 2, 1, 'a', 2018, 2017, 'Programming', 'Statistics']\n"
          ],
          "name": "stdout"
        }
      ]
    },
    {
      "cell_type": "code",
      "metadata": {
        "id": "u77Eg2WejJjh",
        "colab_type": "code",
        "outputId": "9b94f788-abcb-4c9a-fbc8-deb18443b69a",
        "colab": {
          "base_uri": "https://localhost:8080/",
          "height": 51
        }
      },
      "source": [
        "list_1 = ['a','b','c']\n",
        "list_1.sort()\n",
        "print (\"Sort ascending: \", list_1)\n",
        "list_1.sort(reverse = True)\n",
        "print (\"Sort descending: \", list_1)"
      ],
      "execution_count": 27,
      "outputs": [
        {
          "output_type": "stream",
          "text": [
            "Sort ascending:  ['a', 'b', 'c']\n",
            "Sort descending:  ['c', 'b', 'a']\n"
          ],
          "name": "stdout"
        }
      ]
    }
  ]
}